{
 "cells": [
  {
   "cell_type": "code",
   "execution_count": null,
   "metadata": {},
   "outputs": [],
   "source": [
    "def fizzbuzz():\n",
    "    for i in range(1,101):\n",
    "        if i % 3 == 0 and i % 5 == 0:\n",
    "            print('fizzbuzz')\n",
    "        elif i % 3 == 0:\n",
    "            print('fizz')\n",
    "        elif i % 5 == 0:\n",
    "            print('buzz')\n",
    "        else:\n",
    "            print(i)\n",
    "    \n",
    "\n"
   ]
  },
  {
   "cell_type": "code",
   "execution_count": 4,
   "metadata": {},
   "outputs": [],
   "source": [
    "#fizzbuzz()"
   ]
  },
  {
   "cell_type": "code",
   "execution_count": 3,
   "metadata": {},
   "outputs": [],
   "source": [
    "def ss(number_list,n):\n",
    "    found = False\n",
    "    for i in number_list:\n",
    "        if i == n:\n",
    "            found = True\n",
    "            break\n",
    "    return found\n"
   ]
  },
  {
   "cell_type": "code",
   "execution_count": 7,
   "metadata": {},
   "outputs": [
    {
     "name": "stdout",
     "output_type": "stream",
     "text": [
      "True\n",
      "False\n"
     ]
    }
   ],
   "source": [
    "numbers = range(0,100)\n",
    "s1 = ss(numbers,2)\n",
    "print(s1)\n",
    "s2=ss(numbers,202)\n",
    "print(s2)"
   ]
  },
  {
   "cell_type": "code",
   "execution_count": 1,
   "metadata": {},
   "outputs": [],
   "source": [
    "#palindrom\n",
    "def palindrome(word):\n",
    "    word = word.lower()\n",
    "    return word[::-1] == word"
   ]
  },
  {
   "cell_type": "code",
   "execution_count": 3,
   "metadata": {},
   "outputs": [
    {
     "name": "stdout",
     "output_type": "stream",
     "text": [
      "True\n"
     ]
    }
   ],
   "source": [
    "print(palindrome('mam'))"
   ]
  },
  {
   "cell_type": "code",
   "execution_count": 4,
   "metadata": {},
   "outputs": [],
   "source": [
    "def anagram(w1,w2):\n",
    "    w1 = w1.lower()\n",
    "    w2 = w2.lower()\n",
    "    return sorted(w1) == sorted(w2)"
   ]
  },
  {
   "cell_type": "code",
   "execution_count": 6,
   "metadata": {},
   "outputs": [
    {
     "name": "stdout",
     "output_type": "stream",
     "text": [
      "True\n",
      "False\n"
     ]
    }
   ],
   "source": [
    "print(anagram('tapok','kapot'))\n",
    "print(anagram('list','derevo'))"
   ]
  },
  {
   "cell_type": "code",
   "execution_count": 1,
   "metadata": {},
   "outputs": [],
   "source": [
    "def count_characters(string):\n",
    "    count_dict = {}\n",
    "    for c in string:\n",
    "        if c in count_dict:\n",
    "            count_dict[c] += 1\n",
    "        else:\n",
    "            count_dict[c] = 1\n",
    "    print(count_dict)"
   ]
  },
  {
   "cell_type": "code",
   "execution_count": 3,
   "metadata": {},
   "outputs": [
    {
     "name": "stdout",
     "output_type": "stream",
     "text": [
      "{'m': 1, 'a': 3, 'k': 2}\n"
     ]
    }
   ],
   "source": [
    "count_characters('makaka')"
   ]
  },
  {
   "cell_type": "code",
   "execution_count": 4,
   "metadata": {},
   "outputs": [],
   "source": [
    "def bottles_of_beer(bob):\n",
    "    '''printing text of song 99 bottles of beer\n",
    "    :param bob: must be integer'''\n",
    "    if bob<1:\n",
    "        print('No more bottles of beer on the wall, no more bottles of beer. ')\n",
    "        return\n",
    "    tmp = bob\n",
    "    bob -= 1\n",
    "    print('''{} bottles of beer on the wall. \n",
    "    {} bottles of beer. Take one, roll in circle, \n",
    "    {} bottles of beer on the wall'''.format(tmp,tmp,bob))\n",
    "    bottles_of_beer(bob)"
   ]
  },
  {
   "cell_type": "code",
   "execution_count": 5,
   "metadata": {},
   "outputs": [
    {
     "name": "stdout",
     "output_type": "stream",
     "text": [
      "99 bottles of beer on the wall. 99 bottles of beer. Take one, roll in circle, 98 bottles of beer on the wall\n",
      "98 bottles of beer on the wall. 98 bottles of beer. Take one, roll in circle, 97 bottles of beer on the wall\n",
      "97 bottles of beer on the wall. 97 bottles of beer. Take one, roll in circle, 96 bottles of beer on the wall\n",
      "96 bottles of beer on the wall. 96 bottles of beer. Take one, roll in circle, 95 bottles of beer on the wall\n",
      "95 bottles of beer on the wall. 95 bottles of beer. Take one, roll in circle, 94 bottles of beer on the wall\n",
      "94 bottles of beer on the wall. 94 bottles of beer. Take one, roll in circle, 93 bottles of beer on the wall\n",
      "93 bottles of beer on the wall. 93 bottles of beer. Take one, roll in circle, 92 bottles of beer on the wall\n",
      "92 bottles of beer on the wall. 92 bottles of beer. Take one, roll in circle, 91 bottles of beer on the wall\n",
      "91 bottles of beer on the wall. 91 bottles of beer. Take one, roll in circle, 90 bottles of beer on the wall\n",
      "90 bottles of beer on the wall. 90 bottles of beer. Take one, roll in circle, 89 bottles of beer on the wall\n",
      "89 bottles of beer on the wall. 89 bottles of beer. Take one, roll in circle, 88 bottles of beer on the wall\n",
      "88 bottles of beer on the wall. 88 bottles of beer. Take one, roll in circle, 87 bottles of beer on the wall\n",
      "87 bottles of beer on the wall. 87 bottles of beer. Take one, roll in circle, 86 bottles of beer on the wall\n",
      "86 bottles of beer on the wall. 86 bottles of beer. Take one, roll in circle, 85 bottles of beer on the wall\n",
      "85 bottles of beer on the wall. 85 bottles of beer. Take one, roll in circle, 84 bottles of beer on the wall\n",
      "84 bottles of beer on the wall. 84 bottles of beer. Take one, roll in circle, 83 bottles of beer on the wall\n",
      "83 bottles of beer on the wall. 83 bottles of beer. Take one, roll in circle, 82 bottles of beer on the wall\n",
      "82 bottles of beer on the wall. 82 bottles of beer. Take one, roll in circle, 81 bottles of beer on the wall\n",
      "81 bottles of beer on the wall. 81 bottles of beer. Take one, roll in circle, 80 bottles of beer on the wall\n",
      "80 bottles of beer on the wall. 80 bottles of beer. Take one, roll in circle, 79 bottles of beer on the wall\n",
      "79 bottles of beer on the wall. 79 bottles of beer. Take one, roll in circle, 78 bottles of beer on the wall\n",
      "78 bottles of beer on the wall. 78 bottles of beer. Take one, roll in circle, 77 bottles of beer on the wall\n",
      "77 bottles of beer on the wall. 77 bottles of beer. Take one, roll in circle, 76 bottles of beer on the wall\n",
      "76 bottles of beer on the wall. 76 bottles of beer. Take one, roll in circle, 75 bottles of beer on the wall\n",
      "75 bottles of beer on the wall. 75 bottles of beer. Take one, roll in circle, 74 bottles of beer on the wall\n",
      "74 bottles of beer on the wall. 74 bottles of beer. Take one, roll in circle, 73 bottles of beer on the wall\n",
      "73 bottles of beer on the wall. 73 bottles of beer. Take one, roll in circle, 72 bottles of beer on the wall\n",
      "72 bottles of beer on the wall. 72 bottles of beer. Take one, roll in circle, 71 bottles of beer on the wall\n",
      "71 bottles of beer on the wall. 71 bottles of beer. Take one, roll in circle, 70 bottles of beer on the wall\n",
      "70 bottles of beer on the wall. 70 bottles of beer. Take one, roll in circle, 69 bottles of beer on the wall\n",
      "69 bottles of beer on the wall. 69 bottles of beer. Take one, roll in circle, 68 bottles of beer on the wall\n",
      "68 bottles of beer on the wall. 68 bottles of beer. Take one, roll in circle, 67 bottles of beer on the wall\n",
      "67 bottles of beer on the wall. 67 bottles of beer. Take one, roll in circle, 66 bottles of beer on the wall\n",
      "66 bottles of beer on the wall. 66 bottles of beer. Take one, roll in circle, 65 bottles of beer on the wall\n",
      "65 bottles of beer on the wall. 65 bottles of beer. Take one, roll in circle, 64 bottles of beer on the wall\n",
      "64 bottles of beer on the wall. 64 bottles of beer. Take one, roll in circle, 63 bottles of beer on the wall\n",
      "63 bottles of beer on the wall. 63 bottles of beer. Take one, roll in circle, 62 bottles of beer on the wall\n",
      "62 bottles of beer on the wall. 62 bottles of beer. Take one, roll in circle, 61 bottles of beer on the wall\n",
      "61 bottles of beer on the wall. 61 bottles of beer. Take one, roll in circle, 60 bottles of beer on the wall\n",
      "60 bottles of beer on the wall. 60 bottles of beer. Take one, roll in circle, 59 bottles of beer on the wall\n",
      "59 bottles of beer on the wall. 59 bottles of beer. Take one, roll in circle, 58 bottles of beer on the wall\n",
      "58 bottles of beer on the wall. 58 bottles of beer. Take one, roll in circle, 57 bottles of beer on the wall\n",
      "57 bottles of beer on the wall. 57 bottles of beer. Take one, roll in circle, 56 bottles of beer on the wall\n",
      "56 bottles of beer on the wall. 56 bottles of beer. Take one, roll in circle, 55 bottles of beer on the wall\n",
      "55 bottles of beer on the wall. 55 bottles of beer. Take one, roll in circle, 54 bottles of beer on the wall\n",
      "54 bottles of beer on the wall. 54 bottles of beer. Take one, roll in circle, 53 bottles of beer on the wall\n",
      "53 bottles of beer on the wall. 53 bottles of beer. Take one, roll in circle, 52 bottles of beer on the wall\n",
      "52 bottles of beer on the wall. 52 bottles of beer. Take one, roll in circle, 51 bottles of beer on the wall\n",
      "51 bottles of beer on the wall. 51 bottles of beer. Take one, roll in circle, 50 bottles of beer on the wall\n",
      "50 bottles of beer on the wall. 50 bottles of beer. Take one, roll in circle, 49 bottles of beer on the wall\n",
      "49 bottles of beer on the wall. 49 bottles of beer. Take one, roll in circle, 48 bottles of beer on the wall\n",
      "48 bottles of beer on the wall. 48 bottles of beer. Take one, roll in circle, 47 bottles of beer on the wall\n",
      "47 bottles of beer on the wall. 47 bottles of beer. Take one, roll in circle, 46 bottles of beer on the wall\n",
      "46 bottles of beer on the wall. 46 bottles of beer. Take one, roll in circle, 45 bottles of beer on the wall\n",
      "45 bottles of beer on the wall. 45 bottles of beer. Take one, roll in circle, 44 bottles of beer on the wall\n",
      "44 bottles of beer on the wall. 44 bottles of beer. Take one, roll in circle, 43 bottles of beer on the wall\n",
      "43 bottles of beer on the wall. 43 bottles of beer. Take one, roll in circle, 42 bottles of beer on the wall\n",
      "42 bottles of beer on the wall. 42 bottles of beer. Take one, roll in circle, 41 bottles of beer on the wall\n",
      "41 bottles of beer on the wall. 41 bottles of beer. Take one, roll in circle, 40 bottles of beer on the wall\n",
      "40 bottles of beer on the wall. 40 bottles of beer. Take one, roll in circle, 39 bottles of beer on the wall\n",
      "39 bottles of beer on the wall. 39 bottles of beer. Take one, roll in circle, 38 bottles of beer on the wall\n",
      "38 bottles of beer on the wall. 38 bottles of beer. Take one, roll in circle, 37 bottles of beer on the wall\n",
      "37 bottles of beer on the wall. 37 bottles of beer. Take one, roll in circle, 36 bottles of beer on the wall\n",
      "36 bottles of beer on the wall. 36 bottles of beer. Take one, roll in circle, 35 bottles of beer on the wall\n",
      "35 bottles of beer on the wall. 35 bottles of beer. Take one, roll in circle, 34 bottles of beer on the wall\n",
      "34 bottles of beer on the wall. 34 bottles of beer. Take one, roll in circle, 33 bottles of beer on the wall\n",
      "33 bottles of beer on the wall. 33 bottles of beer. Take one, roll in circle, 32 bottles of beer on the wall\n",
      "32 bottles of beer on the wall. 32 bottles of beer. Take one, roll in circle, 31 bottles of beer on the wall\n",
      "31 bottles of beer on the wall. 31 bottles of beer. Take one, roll in circle, 30 bottles of beer on the wall\n",
      "30 bottles of beer on the wall. 30 bottles of beer. Take one, roll in circle, 29 bottles of beer on the wall\n",
      "29 bottles of beer on the wall. 29 bottles of beer. Take one, roll in circle, 28 bottles of beer on the wall\n",
      "28 bottles of beer on the wall. 28 bottles of beer. Take one, roll in circle, 27 bottles of beer on the wall\n",
      "27 bottles of beer on the wall. 27 bottles of beer. Take one, roll in circle, 26 bottles of beer on the wall\n",
      "26 bottles of beer on the wall. 26 bottles of beer. Take one, roll in circle, 25 bottles of beer on the wall\n",
      "25 bottles of beer on the wall. 25 bottles of beer. Take one, roll in circle, 24 bottles of beer on the wall\n",
      "24 bottles of beer on the wall. 24 bottles of beer. Take one, roll in circle, 23 bottles of beer on the wall\n",
      "23 bottles of beer on the wall. 23 bottles of beer. Take one, roll in circle, 22 bottles of beer on the wall\n",
      "22 bottles of beer on the wall. 22 bottles of beer. Take one, roll in circle, 21 bottles of beer on the wall\n",
      "21 bottles of beer on the wall. 21 bottles of beer. Take one, roll in circle, 20 bottles of beer on the wall\n",
      "20 bottles of beer on the wall. 20 bottles of beer. Take one, roll in circle, 19 bottles of beer on the wall\n",
      "19 bottles of beer on the wall. 19 bottles of beer. Take one, roll in circle, 18 bottles of beer on the wall\n",
      "18 bottles of beer on the wall. 18 bottles of beer. Take one, roll in circle, 17 bottles of beer on the wall\n",
      "17 bottles of beer on the wall. 17 bottles of beer. Take one, roll in circle, 16 bottles of beer on the wall\n",
      "16 bottles of beer on the wall. 16 bottles of beer. Take one, roll in circle, 15 bottles of beer on the wall\n",
      "15 bottles of beer on the wall. 15 bottles of beer. Take one, roll in circle, 14 bottles of beer on the wall\n",
      "14 bottles of beer on the wall. 14 bottles of beer. Take one, roll in circle, 13 bottles of beer on the wall\n",
      "13 bottles of beer on the wall. 13 bottles of beer. Take one, roll in circle, 12 bottles of beer on the wall\n",
      "12 bottles of beer on the wall. 12 bottles of beer. Take one, roll in circle, 11 bottles of beer on the wall\n",
      "11 bottles of beer on the wall. 11 bottles of beer. Take one, roll in circle, 10 bottles of beer on the wall\n",
      "10 bottles of beer on the wall. 10 bottles of beer. Take one, roll in circle, 9 bottles of beer on the wall\n",
      "9 bottles of beer on the wall. 9 bottles of beer. Take one, roll in circle, 8 bottles of beer on the wall\n",
      "8 bottles of beer on the wall. 8 bottles of beer. Take one, roll in circle, 7 bottles of beer on the wall\n",
      "7 bottles of beer on the wall. 7 bottles of beer. Take one, roll in circle, 6 bottles of beer on the wall\n",
      "6 bottles of beer on the wall. 6 bottles of beer. Take one, roll in circle, 5 bottles of beer on the wall\n",
      "5 bottles of beer on the wall. 5 bottles of beer. Take one, roll in circle, 4 bottles of beer on the wall\n",
      "4 bottles of beer on the wall. 4 bottles of beer. Take one, roll in circle, 3 bottles of beer on the wall\n",
      "3 bottles of beer on the wall. 3 bottles of beer. Take one, roll in circle, 2 bottles of beer on the wall\n",
      "2 bottles of beer on the wall. 2 bottles of beer. Take one, roll in circle, 1 bottles of beer on the wall\n",
      "1 bottles of beer on the wall. 1 bottles of beer. Take one, roll in circle, 0 bottles of beer on the wall\n",
      "No more bottles of beer on the wall, no more bottles of beer. \n"
     ]
    }
   ],
   "source": [
    "bottles_of_beer(99)"
   ]
  },
  {
   "cell_type": "code",
   "execution_count": null,
   "metadata": {},
   "outputs": [],
   "source": []
  }
 ],
 "metadata": {
  "kernelspec": {
   "display_name": "Python 3",
   "language": "python",
   "name": "python3"
  },
  "language_info": {
   "codemirror_mode": {
    "name": "ipython",
    "version": 3
   },
   "file_extension": ".py",
   "mimetype": "text/x-python",
   "name": "python",
   "nbconvert_exporter": "python",
   "pygments_lexer": "ipython3",
   "version": "3.7.3"
  }
 },
 "nbformat": 4,
 "nbformat_minor": 2
}
